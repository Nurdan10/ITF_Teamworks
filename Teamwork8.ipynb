{
  "nbformat": 4,
  "nbformat_minor": 0,
  "metadata": {
    "colab": {
      "provenance": []
    },
    "kernelspec": {
      "name": "python3",
      "display_name": "Python 3"
    },
    "language_info": {
      "name": "python"
    }
  },
  "cells": [
    {
      "cell_type": "markdown",
      "source": [
        "1. What is the proper way to write a list comprehension that represents all the keys in this dictionary in\n",
        "Python?"
      ],
      "metadata": {
        "id": "6WU-w68iy9md"
      }
    },
    {
      "cell_type": "code",
      "source": [
        "fruits = {'Apples': 5, 'Oranges': 3, 'Bananas': 4}\n",
        "fruit_names = [x for x in fruits.keys()]\n",
        "print(fruit_names)\n"
      ],
      "metadata": {
        "id": "OBEGRuK60vmS",
        "colab": {
          "base_uri": "https://localhost:8080/"
        },
        "outputId": "6b6e9594-3ac3-4a97-b1d5-902c0ce48fa8"
      },
      "execution_count": null,
      "outputs": [
        {
          "output_type": "stream",
          "name": "stdout",
          "text": [
            "['Apples', 'Oranges', 'Bananas']\n"
          ]
        }
      ]
    },
    {
      "cell_type": "code",
      "source": [
        "fruits = {'Apples': 5, 'Oranges': 3, 'Bananas': 4}\n",
        "for x in fruits.keys():\n",
        "  print(x)"
      ],
      "metadata": {
        "id": "L4l97Jvb2mLf"
      },
      "execution_count": null,
      "outputs": []
    },
    {
      "cell_type": "markdown",
      "source": [
        "2. When would you use a for loop in Python?\n",
        "\n",
        "B. When you need to check every element in an iterable of known length.\n",
        "\n",
        "Döngüler (loops), programlarda belirli bir işlemi tekrarlamak için kullanılır. Döngüler, belirli bir koşul sağlandığı sürece veya belirli bir sayıda tekrar gerçekleşene kadar belirli bir bloğu çalıştırmaya olanak tanır"
      ],
      "metadata": {
        "id": "VW6yk0rI4BPh"
      }
    },
    {
      "cell_type": "markdown",
      "source": [
        "3. What is the output of the following program?"
      ],
      "metadata": {
        "id": "da6LFUOJ6MV4"
      }
    },
    {
      "cell_type": "code",
      "source": [
        "i = 5\n",
        "while True:\n",
        " if i%0xe == 0:\n",
        "  break\n",
        " print(i)\n",
        " i += 1"
      ],
      "metadata": {
        "id": "vdqat03r6ETx",
        "colab": {
          "base_uri": "https://localhost:8080/"
        },
        "outputId": "13af49d0-d5ef-4b9d-f13f-5103ceb6bc3e"
      },
      "execution_count": null,
      "outputs": [
        {
          "output_type": "stream",
          "name": "stdout",
          "text": [
            "5\n",
            "6\n",
            "7\n",
            "8\n",
            "9\n",
            "10\n",
            "11\n",
            "12\n",
            "13\n"
          ]
        }
      ]
    },
    {
      "cell_type": "markdown",
      "source": [
        "4. What will be the output of the following Python code snippet?\n"
      ],
      "metadata": {
        "id": "EJeFsrZbBW3W"
      }
    },
    {
      "cell_type": "code",
      "source": [
        "x = 'abcd'\n",
        "for i in range(len(x)):\n",
        " i[x].upper()\n",
        "print (x)"
      ],
      "metadata": {
        "id": "YQw1L5vzBT8N",
        "colab": {
          "base_uri": "https://localhost:8080/",
          "height": 237
        },
        "outputId": "5b28f326-132b-45b4-8483-1f761753fa0b"
      },
      "execution_count": null,
      "outputs": [
        {
          "output_type": "error",
          "ename": "TypeError",
          "evalue": "'int' object is not subscriptable",
          "traceback": [
            "\u001b[0;31m---------------------------------------------------------------------------\u001b[0m",
            "\u001b[0;31mTypeError\u001b[0m                                 Traceback (most recent call last)",
            "\u001b[0;32m<ipython-input-3-d1ae55c49107>\u001b[0m in \u001b[0;36m<cell line: 2>\u001b[0;34m()\u001b[0m\n\u001b[1;32m      1\u001b[0m \u001b[0mx\u001b[0m \u001b[0;34m=\u001b[0m \u001b[0;34m'abcd'\u001b[0m\u001b[0;34m\u001b[0m\u001b[0;34m\u001b[0m\u001b[0m\n\u001b[1;32m      2\u001b[0m \u001b[0;32mfor\u001b[0m \u001b[0mi\u001b[0m \u001b[0;32min\u001b[0m \u001b[0mrange\u001b[0m\u001b[0;34m(\u001b[0m\u001b[0mlen\u001b[0m\u001b[0;34m(\u001b[0m\u001b[0mx\u001b[0m\u001b[0;34m)\u001b[0m\u001b[0;34m)\u001b[0m\u001b[0;34m:\u001b[0m\u001b[0;34m\u001b[0m\u001b[0;34m\u001b[0m\u001b[0m\n\u001b[0;32m----> 3\u001b[0;31m  \u001b[0mi\u001b[0m\u001b[0;34m[\u001b[0m\u001b[0mx\u001b[0m\u001b[0;34m]\u001b[0m\u001b[0;34m.\u001b[0m\u001b[0mupper\u001b[0m\u001b[0;34m(\u001b[0m\u001b[0;34m)\u001b[0m\u001b[0;34m\u001b[0m\u001b[0;34m\u001b[0m\u001b[0m\n\u001b[0m\u001b[1;32m      4\u001b[0m \u001b[0mprint\u001b[0m \u001b[0;34m(\u001b[0m\u001b[0mx\u001b[0m\u001b[0;34m)\u001b[0m\u001b[0;34m\u001b[0m\u001b[0;34m\u001b[0m\u001b[0m\n",
            "\u001b[0;31mTypeError\u001b[0m: 'int' object is not subscriptable"
          ]
        }
      ]
    },
    {
      "cell_type": "code",
      "source": [
        "x = 'abcd'\n",
        "for i in range(len(x)):\n",
        "  print(i)"
      ],
      "metadata": {
        "id": "EhluhlKgB3WP"
      },
      "execution_count": null,
      "outputs": []
    },
    {
      "cell_type": "markdown",
      "source": [
        "5. Suppose there is a list such that: k=[2,3,4]. If we want to print this list in reverse order, which of the\n",
        "following methods should be used?"
      ],
      "metadata": {
        "id": "2zQHGPisDQd2"
      }
    },
    {
      "cell_type": "code",
      "source": [
        "k = [2, 3, 4]\n",
        "reverse_k = list(reversed(k))\n",
        "print(reverse_k)"
      ],
      "metadata": {
        "id": "N7kB4WUUDRfB",
        "colab": {
          "base_uri": "https://localhost:8080/"
        },
        "outputId": "93208f1a-a8ea-48de-8932-103526951802"
      },
      "execution_count": null,
      "outputs": [
        {
          "output_type": "stream",
          "name": "stdout",
          "text": [
            "[4, 3, 2]\n"
          ]
        }
      ]
    },
    {
      "cell_type": "markdown",
      "source": [
        "6. Which of the following is not a Python built-in function?\n",
        "\n",
        "D. diff()"
      ],
      "metadata": {
        "id": "r57L_V1FUimN"
      }
    },
    {
      "cell_type": "markdown",
      "source": [
        "7. What is the linux mascot?\n",
        "\n",
        "D. Penguin"
      ],
      "metadata": {
        "id": "3TyPpDNWIXJQ"
      }
    },
    {
      "cell_type": "markdown",
      "source": [
        "8. The Linux Kernel was written by?\n",
        "\n",
        "B. Linus Torwalds"
      ],
      "metadata": {
        "id": "EWF0pNI6Iie5"
      }
    },
    {
      "cell_type": "markdown",
      "source": [
        "9. What will show you all the subdirectories of the current directory\n",
        "\n",
        "A. ls"
      ],
      "metadata": {
        "id": "sJEBzHb5IuGT"
      }
    },
    {
      "cell_type": "markdown",
      "source": [
        "10. What does the pwd command do?\n",
        "\n",
        "C. It prints the path of the current working directory"
      ],
      "metadata": {
        "id": "5QJMVDG-JACA"
      }
    },
    {
      "cell_type": "markdown",
      "source": [
        "11. Which of the following command helps to create directory called test?\n",
        "\n",
        "A. mkdir test"
      ],
      "metadata": {
        "id": "e3xbEF6WJoa-"
      }
    },
    {
      "cell_type": "markdown",
      "source": [
        "12. Which option of rm command is used to remove a directory with all its subdirectories?\n",
        "\n",
        "D. -r"
      ],
      "metadata": {
        "id": "WoHhGngqJybv"
      }
    },
    {
      "cell_type": "markdown",
      "source": [
        "13. Which directory contain device special files?\n",
        "\n",
        "D. /dev\n",
        "Unix benzeri işletim sistemlerinde /dev dizini, özel dosyalar olarak da bilinen aygıt dosyaları için ayrılmıştır. Bu dosyalar aygıtlara ve çekirdek özelliklerine yönelik arayüzleri temsil eder\n",
        "\n",
        " /etc: dizini öncelikle sistem ve uygulamalara ilişkin yapılandırma dosyalarını içerir. Cihaza özel dosyalar için standart konum değildir.\n",
        "\n",
        " /etc/dev: Bu yol standart bir konum değildir ve aygıt dosyalarına ilişkin geleneksel yapıyı takip etmez.\n",
        "\n",
        " /root/bin: Bu dizin genellikle root kullanıcıya özel yürütülebilir ikili dosyalar için kullanılır. Cihaza özel dosyalar için standart konum değildir."
      ],
      "metadata": {
        "id": "PjNhl54jKPhQ"
      }
    },
    {
      "cell_type": "markdown",
      "source": [
        "14. Which is the core of the operating system?\n",
        "\n",
        "B. Kernel\n",
        "\n",
        "Genellikle çekirdek olarak adlandırılan işletim sisteminin çekirdeği, sistem kaynaklarını yöneten, temel hizmetleri sağlayan ve donanım ile yazılım arasında aracı görevi gören merkezi bileşendir. Çekirdek, süreç yönetimi, bellek yönetimi, cihaz yönetimi ve sistem çağrıları gibi görevlerden sorumludur. İşletim sisteminin genel kararlılığını ve işlevselliğini korumada çok önemli bir rol oynar."
      ],
      "metadata": {
        "id": "IZYYfW9CMUKI"
      }
    },
    {
      "cell_type": "markdown",
      "source": [
        "15. The prompt of the root user is?\n",
        "\n",
        "B. #"
      ],
      "metadata": {
        "id": "CBVEYiMZM50-"
      }
    },
    {
      "cell_type": "markdown",
      "source": [
        "Interview Questions\n",
        "\n",
        "1. Python fonksiyonlarini aciklayiniz\n",
        "\n",
        "Python'da fonksiyon, programın bir bölümü veya bir kez yazılan ve değiştirilebilen bir kod bloğudur.\n",
        "Programda ihtiyaç duyulduğunda yürütülür. Bir fonksiyon, kendi kendine yeten ifadelerden oluşan bir bloktur.\n",
        "Fonksiyon geçerli bir ad, parametre listesi ve gövdeden olusur. Fonksiyonlarin kullanim amaclarini asagidaki gibi siralayabiliriz:\n",
        "\n",
        "Modülerlik: Programı küçük, bağımsız parçalara bölerek daha yönetilebilir hale getirir.\n",
        "\n",
        "Tekrar Kullanılabilirlik: Belirli bir işlevi yerine getiren kodu başka yerlerde tekrar kullanma olanağı sağlar.\n",
        "\n",
        "Okunabilirlik: Kodu daha anlaşılır hale getirir ve bakımını kolaylaştırır.\n",
        "\n",
        "Parametreler ve Dönüş Değerleri: İşlevselliği artırmak için parametreleri alabilir ve bir değer veya değerler döndürebilir.\n",
        "\n",
        "Iki tür fonksiyon vardir:\n",
        "Built-in Function: Python dilinin kendisi tarafından sağlanan, önceden tanımlanmış ve genel amaçlı fonksiyonlardır.\n",
        "Standart kütüphanede bulunurlar ve Python yüklendikten sonra doğrudan kullanılabilirler.\n",
        "\n",
        "User-Defined Function: Python programcısı tarafından özel ihtiyaçlara uygun olarak tanımlanan fonksiyonlardır.\n",
        "\n",
        "Genel olarak, yerleşik fonksiyonlar genel programlama ihtiyaçlarını karşılamak için sağlanırken, kullanıcı tanımlı fonksiyonlar özel bir programın mantığına ve ihtiyaçlarına özgü olarak oluşturulur. Her ikisi de Python programlamada önemli bir rol oynar ve programcılara esneklik ve güç sağlar.\n",
        "\n",
        "2. Python'da lokal ve global degiskenler nedir?\n",
        "\n",
        "Python'da, değişkenler iki temel kapsam (scope) altında bulunabilir: lokal (yerel) ve global (genel). Kapsam, bir değişkenin nerede tanımlandığına ve bu değişkenin hangi kod bloklarında erişilebilir olduğuna bağlıdır.\n",
        "\n",
        "Lokal Değişkenler (Local Variables):\n",
        ". Bir değişken, bir fonksiyon içinde tanımlanmışsa, bu değişken \"lokal\" bir değişkendir.\n",
        ". Bu değişken, sadece tanımlandığı fonksiyonun içinde erişilebilir ve kullanılabilir.\n",
        ". Fonksiyon dışındaki kısımlardan bu değişkene erişilemez.\n",
        "\n",
        "Global Değişkenler (Global Variables):\n",
        ".  Bir değişken, herhangi bir fonksiyon dışında, genel olarak programın ana kısmında tanımlanmışsa, bu değişken \"global\" bir değişkendir.\n",
        ". Global değişkenlere, programın herhangi bir yerinden, yani fonksiyon içinden veya dışından erişilebilir.\n",
        "\n",
        "Tipp: Ancak, global değişkenlerin fonksiyon içinde değiştirilmesi için global anahtar kelimesi kullanılmalıdır. Aksi takdirde, fonksiyon içinde tanımlanan bir değişken, o fonksiyonun kendi lokal değişkeni olarak kabul edilir.\n",
        "\n",
        "3. Linux nedir?\n",
        "\n",
        "\n",
        "Linux, özgür ve açık kaynaklı bir işletim sistemidir. Linus Torvalds tarafından 1991 yılında geliştirilmeye başlanmıştır. Linux, Unix benzeri bir işletim sistemidir ve genellikle çoklu kullanıcı, çoklu görev ve ağ özellikleri içerir.\n",
        "\n",
        "İşte Linux'un temel özellikleri:\n",
        "\n",
        "Açık Kaynaklı Yazılım: Linux'un kaynak kodu herkes tarafından erişilebilir ve düzenlenebilir. Bu, kullanıcıların ihtiyaçlarına uygun olarak özelleştirilmesini sağlar.\n",
        "\n",
        "Çoklu Kullanıcı ve Çoklu Görev: Linux, aynı anda birçok kullanıcının sistemde çalışmasına ve birçok görevin eşzamanlı olarak yürütülmesine olanak tanır.\n",
        "\n",
        "İstikrar ve Güvenilirlik: Linux, genellikle yüksek düzeyde istikrar ve güvenilirlik sunar. Sunucu sistemleri, süper bilgisayarlar ve gömülü sistemler gibi birçok farklı ortamda kullanılır.\n",
        "\n",
        "Taşınabilirlik: Linux, farklı donanım platformlarına kolayca taşınabilir. Bu, farklı cihazlar ve bilgisayarlar arasında aynı işletim sistemini kullanabilmenizi sağlar.\n",
        "\n",
        "Çoklu Platform Desteği: Linux, çeşitli mimarilere sahip bilgisayarlar, sunucular, akıllı telefonlar, gömülü sistemler ve diğer cihazlar için destek sunar.\n",
        "\n",
        "Gelişmiş Ağ Yetenekleri: Linux, güçlü ağ yetenekleri ile bilinir. Web sunucuları, ağ yönlendiricileri ve firewall'lar gibi birçok ağ cihazı üzerinde kullanılır.\n",
        "\n",
        "Komut Satırı Arayüzü: Linux, genellikle bir komut satırı arayüzü (CLI - Command Line Interface) sunar, ancak birçok dağıtım grafik kullanıcı arayüzü (GUI - Graphic User Interface) de içerir.\n",
        "\n",
        "Linux, birçok farklı dağıtım (distribution) altında sunulmaktadır. Her bir dağıtım, Linux çekirdeği ile birlikte gelen ve genellikle farklı paket yönetim sistemleri, yazılım paketleri ve konfigürasyon araçları içeren bir dizi yazılım içerir. Popüler Linux dağıtımları arasında Ubuntu, Fedora, Debian, CentOS ve Arch Linux bulunmaktadır.\n"
      ],
      "metadata": {
        "id": "cuJw_ezLNH96"
      }
    }
  ]
}