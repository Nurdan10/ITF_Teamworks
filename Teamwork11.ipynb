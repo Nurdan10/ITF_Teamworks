{
  "nbformat": 4,
  "nbformat_minor": 0,
  "metadata": {
    "colab": {
      "provenance": []
    },
    "kernelspec": {
      "name": "python3",
      "display_name": "Python 3"
    },
    "language_info": {
      "name": "python"
    }
  },
  "cells": [
    {
      "cell_type": "code",
      "source": [
        "import random\n",
        "random.randrange(0,91,5)"
      ],
      "metadata": {
        "id": "NS5PFGxLqT4w",
        "colab": {
          "base_uri": "https://localhost:8080/"
        },
        "outputId": "64d91547-ab36-42de-919d-71ffbaa4e72e"
      },
      "execution_count": 23,
      "outputs": [
        {
          "output_type": "execute_result",
          "data": {
            "text/plain": [
              "40"
            ]
          },
          "metadata": {},
          "execution_count": 23
        }
      ]
    },
    {
      "cell_type": "code",
      "source": [
        "def foo():\n",
        "  try:\n",
        "    return 1\n",
        "  finally:\n",
        "    return 2\n",
        "k = foo()\n",
        "print(k)"
      ],
      "metadata": {
        "id": "dxetNAZfs8aV",
        "colab": {
          "base_uri": "https://localhost:8080/"
        },
        "outputId": "e882007b-96f0-4524-ec46-4168ef70888c"
      },
      "execution_count": 24,
      "outputs": [
        {
          "output_type": "stream",
          "name": "stdout",
          "text": [
            "2\n"
          ]
        }
      ]
    },
    {
      "cell_type": "code",
      "source": [
        "def foo():\n",
        "  try:\n",
        "    return 1\n",
        "  except:\n",
        "    return 2\n",
        "k = foo()\n",
        "print(k)"
      ],
      "metadata": {
        "id": "OWdqKQcpsI6R",
        "colab": {
          "base_uri": "https://localhost:8080/"
        },
        "outputId": "e889d124-3d58-4be7-8ef8-67240f490a04"
      },
      "execution_count": 25,
      "outputs": [
        {
          "output_type": "stream",
          "name": "stdout",
          "text": [
            "1\n"
          ]
        }
      ]
    },
    {
      "cell_type": "code",
      "source": [
        "def f(x, y, z): return x + y + z\n",
        "f(2, 30, 400)"
      ],
      "metadata": {
        "id": "nS1vvToDtCjw",
        "colab": {
          "base_uri": "https://localhost:8080/"
        },
        "outputId": "29a44a97-dca4-44a9-d08c-2adfc4e2c85e"
      },
      "execution_count": 26,
      "outputs": [
        {
          "output_type": "execute_result",
          "data": {
            "text/plain": [
              "432"
            ]
          },
          "metadata": {},
          "execution_count": 26
        }
      ]
    },
    {
      "cell_type": "code",
      "source": [
        "{a**2 for a in range(4)}"
      ],
      "metadata": {
        "id": "TlTb20y5wgJa",
        "colab": {
          "base_uri": "https://localhost:8080/"
        },
        "outputId": "5e515322-2e25-49df-d5f0-2f827bd4d1ed"
      },
      "execution_count": 27,
      "outputs": [
        {
          "output_type": "execute_result",
          "data": {
            "text/plain": [
              "{0, 1, 4, 9}"
            ]
          },
          "metadata": {},
          "execution_count": 27
        }
      ]
    },
    {
      "cell_type": "code",
      "source": [
        "import copy\n",
        "a=[10,23,56,[78]]\n",
        "b=copy.deepcopy(a)\n",
        "a[3][0]=95\n",
        "a[1]=34\n",
        "print(b)"
      ],
      "metadata": {
        "id": "56oTAWwC7k09",
        "colab": {
          "base_uri": "https://localhost:8080/"
        },
        "outputId": "46ac94d8-b364-4b00-ef5d-b6c2e337df06"
      },
      "execution_count": 28,
      "outputs": [
        {
          "output_type": "stream",
          "name": "stdout",
          "text": [
            "[10, 23, 56, [78]]\n"
          ]
        }
      ]
    },
    {
      "cell_type": "code",
      "source": [
        "import copy\n",
        "\n",
        "l = [0, 1, [2, 3]]\n",
        "l_assign = l                   # assignment\n",
        "l_copy = l.copy()              # shallow copy\n",
        "l_deepcopy = copy.deepcopy(l)  # deep copy\n",
        "\n",
        "l[1] = 100\n",
        "l[2][0] = 200\n",
        "print(l)\n",
        "# [0, 100, [200, 3]]\n",
        "\n",
        "print(l_assign)\n",
        "# [0, 100, [200, 3]]\n",
        "\n",
        "print(l_copy)\n",
        "# [0, 1, [200, 3]]\n",
        "\n",
        "print(l_deepcopy)\n",
        "# [0, 1, [2, 3]]"
      ],
      "metadata": {
        "id": "ymotYru0FIxx",
        "colab": {
          "base_uri": "https://localhost:8080/"
        },
        "outputId": "d97ff42c-0c2d-47e6-e6a6-c1d00c6830a7"
      },
      "execution_count": 29,
      "outputs": [
        {
          "output_type": "stream",
          "name": "stdout",
          "text": [
            "[0, 100, [200, 3]]\n",
            "[0, 100, [200, 3]]\n",
            "[0, 1, [200, 3]]\n",
            "[0, 1, [2, 3]]\n"
          ]
        }
      ]
    },
    {
      "cell_type": "code",
      "source": [
        "import copy\n",
        "\n",
        "l = [0, 1, [2, 3]]\n",
        "l_assign = l                   # assignment\n",
        "l_copy = l.copy()              # shallow copy\n",
        "l_deepcopy = copy.deepcopy(l)  # deep copy\n",
        "\n",
        "l[2][0] = 200\n",
        "print(l)\n",
        "# [0, 100, [200, 3]]\n",
        "\n",
        "print(l_assign)\n",
        "# [0, 100, [200, 3]]\n",
        "\n",
        "print(l_copy)\n",
        "# [0, 1, [200, 3]]\n",
        "\n",
        "print(l_deepcopy)\n",
        "# [0, 1, [2, 3]]"
      ],
      "metadata": {
        "id": "f9Pcd7Exba62"
      },
      "execution_count": null,
      "outputs": []
    },
    {
      "cell_type": "code",
      "source": [
        "import copy\n",
        "\n",
        "l = [0, 1, [2, 3]]\n",
        "l_assign = l                   # assignment\n",
        "l_copy = l.copy()              # shallow copy\n",
        "l_deepcopy = copy.deepcopy(l)  # deep copy\n",
        "\n",
        "l[1] = 100\n",
        "print(l)\n",
        "# [0, 100, [200, 3]]\n",
        "\n",
        "print(l_assign)\n",
        "# [0, 100, [200, 3]]\n",
        "\n",
        "print(l_copy)\n",
        "# [0, 1, [200, 3]]\n",
        "\n",
        "print(l_deepcopy)\n",
        "# [0, 1, [2, 3]]"
      ],
      "metadata": {
        "id": "gLnCWWXbbyCE"
      },
      "execution_count": null,
      "outputs": []
    },
    {
      "cell_type": "code",
      "source": [
        "import copy\n",
        "a=[10,23,56,[78]]\n",
        "b=copy.deepcopy(a)\n",
        "a[3][0]=95\n",
        "a[1]=34\n",
        "print(b)"
      ],
      "metadata": {
        "id": "ENkGmWVw8G6e"
      },
      "execution_count": null,
      "outputs": []
    },
    {
      "cell_type": "code",
      "source": [
        "a=[10,23,56,[78]]\n",
        "b=copy.copy(a)\n",
        "a[3][0]=95\n",
        "a[1]=34\n",
        "print(a)\n",
        "print(b)"
      ],
      "metadata": {
        "id": "jgV78U888Wwr"
      },
      "execution_count": null,
      "outputs": []
    },
    {
      "cell_type": "code",
      "source": [
        "a=[1,2,3,4]\n",
        "b=[sum(a[0:x+1]) for x in range(0,len(a))]\n",
        "print(len(a))"
      ],
      "metadata": {
        "id": "yjSBudUsMgRV"
      },
      "execution_count": null,
      "outputs": []
    },
    {
      "cell_type": "code",
      "source": [
        "a=[1,2,3,4]\n",
        "b=[sum(a[0:x+1]) for x in range(0,len(a))]\n",
        "print(b)"
      ],
      "metadata": {
        "id": "Bi7Fg3M4Ub6f"
      },
      "execution_count": null,
      "outputs": []
    },
    {
      "cell_type": "code",
      "source": [
        "txt = \"one one was a race horse, two two was one too.\"\n",
        "x = txt.replace(\"one\", \"three\")\n",
        "print(x)"
      ],
      "metadata": {
        "id": "15P-_VNQcgKv",
        "colab": {
          "base_uri": "https://localhost:8080/"
        },
        "outputId": "88938c50-264a-4053-bd2e-4a485799285a"
      },
      "execution_count": 30,
      "outputs": [
        {
          "output_type": "stream",
          "name": "stdout",
          "text": [
            "three three was a race horse, two two was three too.\n"
          ]
        }
      ]
    },
    {
      "cell_type": "code",
      "source": [
        "txt = \"one one was a race horse, two two was one too.\"\n",
        "x = txt.replace(\"one\", \"three\", 2)\n",
        "print(x)"
      ],
      "metadata": {
        "id": "Kex0wYi_cl4G",
        "colab": {
          "base_uri": "https://localhost:8080/"
        },
        "outputId": "89ce1132-4858-4fc9-a22c-0ec0fb5e3376"
      },
      "execution_count": 31,
      "outputs": [
        {
          "output_type": "stream",
          "name": "stdout",
          "text": [
            "three three was a race horse, two two was one too.\n"
          ]
        }
      ]
    },
    {
      "cell_type": "code",
      "source": [
        "txt = \"one one was a race horse, two two was one too.\"\n",
        "x = txt.replace(\"one\", \"three\", 1)\n",
        "print(x)"
      ],
      "metadata": {
        "id": "-Z1ZbDljcv4E",
        "colab": {
          "base_uri": "https://localhost:8080/"
        },
        "outputId": "f1c0f689-3625-4c48-d70a-f84b1803f93f"
      },
      "execution_count": 32,
      "outputs": [
        {
          "output_type": "stream",
          "name": "stdout",
          "text": [
            "three one was a race horse, two two was one too.\n"
          ]
        }
      ]
    },
    {
      "cell_type": "code",
      "source": [
        "print('abcefd'.replace('cd', '12'))"
      ],
      "metadata": {
        "id": "PiJPrF7gWH43",
        "colab": {
          "base_uri": "https://localhost:8080/"
        },
        "outputId": "a8efaa9d-6eb7-4a94-f9e6-d2bdddf1cedf"
      },
      "execution_count": 33,
      "outputs": [
        {
          "output_type": "stream",
          "name": "stdout",
          "text": [
            "abcefd\n"
          ]
        }
      ]
    },
    {
      "cell_type": "code",
      "source": [
        "print('abcefd'.replace('ac', '12'))"
      ],
      "metadata": {
        "id": "mOYDtYTHXEAy",
        "colab": {
          "base_uri": "https://localhost:8080/"
        },
        "outputId": "7ad4bde3-caea-4e9f-9427-e79f13ccdba2"
      },
      "execution_count": 34,
      "outputs": [
        {
          "output_type": "stream",
          "name": "stdout",
          "text": [
            "abcefd\n"
          ]
        }
      ]
    },
    {
      "cell_type": "code",
      "source": [
        "print('abcefd'.replace('ce', '12'))"
      ],
      "metadata": {
        "id": "mH0w_9ENWtbB",
        "colab": {
          "base_uri": "https://localhost:8080/"
        },
        "outputId": "83201eb4-4ef4-4d81-df92-8489c4209f17"
      },
      "execution_count": 35,
      "outputs": [
        {
          "output_type": "stream",
          "name": "stdout",
          "text": [
            "ab12fd\n"
          ]
        }
      ]
    },
    {
      "cell_type": "code",
      "source": [
        "print('abcdefd'.replace('cd', '12'))"
      ],
      "metadata": {
        "id": "NHzmtvPNWMTY",
        "colab": {
          "base_uri": "https://localhost:8080/"
        },
        "outputId": "29ca7b05-b32e-4dcf-ef31-42b3b313f770"
      },
      "execution_count": 36,
      "outputs": [
        {
          "output_type": "stream",
          "name": "stdout",
          "text": [
            "ab12efd\n"
          ]
        }
      ]
    }
  ]
}